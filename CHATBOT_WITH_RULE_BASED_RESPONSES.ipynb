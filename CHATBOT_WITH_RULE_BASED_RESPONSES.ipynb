{
  "nbformat": 4,
  "nbformat_minor": 0,
  "metadata": {
    "colab": {
      "provenance": []
    },
    "kernelspec": {
      "name": "python3",
      "display_name": "Python 3"
    },
    "language_info": {
      "name": "python"
    }
  },
  "cells": [
    {
      "cell_type": "code",
      "source": [
        "import re\n",
        "import random\n",
        "\n",
        "# Define a dictionary of rules and responses\n",
        "rules = {\n",
        "    r\"(hi|hello|hey|yo)(.*)\": [\"Hello!\", \"Hi there!\", \"Hey! How can I assist you today?\"],\n",
        "    r\"what is your name(.*)\": [\"I'm just a simple chatbot.\", \"I don't have a name. Call me Chatbot.\"],\n",
        "    r\"(how are you|how are you doing)(.*)\": [\"I'm just a computer program, but I'm here to help!\", \"I don't have feelings, but I'm ready to assist you.\"],\n",
        "    r\"(bye|goodbye|exit)(.*)\": [\"Goodbye! Have a great day!\", \"See you later!\", \"Farewell!\"],\n",
        "    r\"(what can you do|what is your purpose)(.*)\": [\"I can answer questions, provide information, or just chat with you. What would you like to do?\"],\n",
        "    r\"(tell me a joke|joke)(.*)\": [\"Why don't scientists trust atoms? Because they make up everything!\", \"Why did the scarecrow win an award? Because he was outstanding in his field!\"],\n",
        "    r\"(how old are you|age)(.*)\": [\"I don't have an age. I'm just a computer program.\", \"I'm ageless!\"],\n",
        "    r\"(what is the weather like today|weather today)(.*)\": [\"I'm sorry, I can't provide real-time weather information. You can check a weather website or app for that.\"],\n",
        "    r\"(who is your creator|who created you)(.*)\": [\"I was created by Jahnavi.\", \"My creators are talented programmers who designed me for your assistance.\"],\n",
        "    r\"(what is the meaning of life|life's purpose)(.*)\": [\"The meaning of life is a philosophical question that has many interpretations. Some say it's to find happiness, while others seek purpose through relationships and experiences.\"],\n",
        "    r\"(where are you from)(.*)\": [\"I don't have a physical origin. I exist in the digital realm.\", \"I'm from the world of technology!\"],\n",
        "    r\"(who won the last World Series|latest World Series winner)(.*)\": [\"I'm sorry, I don't have real-time sports information. You can check a sports news website for the latest updates.\"],\n",
        "    r\"(what's your favorite color|favorite color)(.*)\": [\"I don't have a favorite color. I'm all about providing information and assistance.\", \"I'm not programmed to have preferences like humans.\"],\n",
        "    r\"(what is the capital of France|capital of France)(.*)\": [\"The capital of France is Paris.\", \"Paris is the capital of France.\"],\n",
        "    r\"(what is the largest planet in our solar system|largest planet)(.*)\": [\"Jupiter is the largest planet in our solar system.\", \"The largest planet in our solar system is Jupiter.\"],\n",
        "    r\"(tell me about space|space exploration)(.*)\": [\"Space is the vast expanse beyond Earth's atmosphere, where stars, planets, and other celestial objects exist. It has been a subject of exploration and wonder for centuries.\"],\n",
        "    r\"(who wrote the play Romeo and Juliet|Romeo and Juliet author)(.*)\": [\"Romeo and Juliet was written by William Shakespeare.\", \"The famous play Romeo and Juliet was authored by William Shakespeare.\"],\n",
        "    r\"(how does photosynthesis work|photosynthesis)(.*)\": [\"Photosynthesis is the process by which plants convert sunlight, carbon dioxide, and water into glucose and oxygen, using chlorophyll in their cells.\"],\n",
        "    r\"(what is the purpose of the United Nations|United Nations)(.*)\": [\"The United Nations is an international organization founded to promote peace, security, cooperation, and diplomacy among nations. It addresses global issues and conflicts.\"],\n",
        "    r\"(.*)(thanks|thank you)(.*)\": [\"You're welcome!\", \"No problem! If you have more questions, feel free to ask.\"],\n",
        "    r\"(.*)\": [\"I'm not sure I understand. Can you please rephrase that?\", \"I don't have an answer to that. Is there anything else I can help with?\"]\n",
        "}\n",
        "\n",
        "\n",
        "# Function to match user input with rules and provide a response\n",
        "def chatbot_response(user_input):\n",
        "    for pattern, responses in rules.items():\n",
        "        if re.match(pattern, user_input.lower()):\n",
        "            return random.choice(responses)\n",
        "\n",
        "    return \"I'm sorry, I couldn't understand your question.\"\n",
        "\n",
        "# Main conversation loop\n",
        "print(\"Chatbot: Hello! How can I assist you today? (Type 'exit' to end)\")\n",
        "while True:\n",
        "    user_input = input(\"You: \").strip()\n",
        "    if user_input.lower() == 'exit':\n",
        "        print(\"Chatbot: Goodbye!\")\n",
        "        break\n",
        "\n",
        "    response = chatbot_response(user_input)\n",
        "    print(\"Chatbot:\", response)\n"
      ],
      "metadata": {
        "colab": {
          "base_uri": "https://localhost:8080/"
        },
        "id": "ryUjbUGxTbuM",
        "outputId": "aef55d94-886c-4f8c-b8a8-46375dc50963"
      },
      "execution_count": 1,
      "outputs": [
        {
          "output_type": "stream",
          "name": "stdout",
          "text": [
            "Chatbot: Hello! How can I assist you today? (Type 'exit' to end)\n",
            "You: hi\n",
            "Chatbot: Hi there!\n",
            "You: who is your creator\n",
            "Chatbot: My creators are talented programmers who designed me for your assistance.\n",
            "You: who is your creator\n",
            "Chatbot: My creators are talented programmers who designed me for your assistance.\n",
            "You: who created you\n",
            "Chatbot: My creators are talented programmers who designed me for your assistance.\n",
            "You: tell me about space\n",
            "Chatbot: Space is the vast expanse beyond Earth's atmosphere, where stars, planets, and other celestial objects exist. It has been a subject of exploration and wonder for centuries.\n",
            "You: joke\n",
            "Chatbot: Why did the scarecrow win an award? Because he was outstanding in his field!\n",
            "You: bye\n",
            "Chatbot: Goodbye! Have a great day!\n",
            "You: exit\n",
            "Chatbot: Goodbye!\n",
            "Chatbot: Hello! How can I assist you today? (Type 'exit' to end)\n"
          ]
        }
      ]
    }
  ]
}