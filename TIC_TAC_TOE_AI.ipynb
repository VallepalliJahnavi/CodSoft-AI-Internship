{
  "nbformat": 4,
  "nbformat_minor": 0,
  "metadata": {
    "colab": {
      "provenance": []
    },
    "kernelspec": {
      "name": "python3",
      "display_name": "Python 3"
    },
    "language_info": {
      "name": "python"
    }
  },
  "cells": [
    {
      "cell_type": "code",
      "execution_count": 4,
      "metadata": {
        "colab": {
          "base_uri": "https://localhost:8080/"
        },
        "id": "O_UcSCB5VnUw",
        "outputId": "806b1a71-8787-404a-97f7-284587988f8a"
      },
      "outputs": [
        {
          "output_type": "stream",
          "name": "stdout",
          "text": [
            "Welcome to Tic-Tac-Toe!\n",
            "  |   |  \n",
            "---------\n",
            "  |   |  \n",
            "---------\n",
            "  |   |  \n",
            "---------\n",
            "O |   |  \n",
            "---------\n",
            "  |   |  \n",
            "---------\n",
            "  |   |  \n",
            "---------\n",
            "Enter the row (0, 1, or 2): 1\n",
            "Enter the column (0, 1, or 2): 1\n",
            "O |   |  \n",
            "---------\n",
            "  | X |  \n",
            "---------\n",
            "  |   |  \n",
            "---------\n",
            "O | O |  \n",
            "---------\n",
            "  | X |  \n",
            "---------\n",
            "  |   |  \n",
            "---------\n",
            "Enter the row (0, 1, or 2): 2\n",
            "Enter the column (0, 1, or 2): 2\n",
            "O | O |  \n",
            "---------\n",
            "  | X |  \n",
            "---------\n",
            "  |   | X\n",
            "---------\n",
            "O | O | O\n",
            "---------\n",
            "  | X |  \n",
            "---------\n",
            "  |   | X\n",
            "---------\n",
            "AI wins! You lose!\n"
          ]
        }
      ],
      "source": [
        "# Function to get a valid user move\n",
        "def get_user_move(board):\n",
        "    while True:\n",
        "        try:\n",
        "            user_row = int(input(\"Enter the row (0, 1, or 2): \"))\n",
        "            user_col = int(input(\"Enter the column (0, 1, or 2): \"))\n",
        "\n",
        "            if 0 <= user_row <= 2 and 0 <= user_col <= 2 and board[user_row][user_col] == ' ':\n",
        "                return user_row, user_col\n",
        "            else:\n",
        "                print(\"Invalid move. Please enter a valid row and column.\")\n",
        "        except ValueError:\n",
        "            print(\"Invalid input. Please enter numeric values for row and column.\")\n",
        "\n",
        "# Main game loop\n",
        "def main():\n",
        "    board = [[' ' for _ in range(3)] for _ in range(3)]\n",
        "    print(\"Welcome to Tic-Tac-Toe!\")\n",
        "    print_board(board)\n",
        "\n",
        "    while True:\n",
        "        row, col = find_best_move(board)\n",
        "        board[row][col] = 'O'\n",
        "        print_board(board)\n",
        "\n",
        "        if check_winner(board, 'O'):\n",
        "            print(\"AI wins! You lose!\")\n",
        "            break\n",
        "\n",
        "        if is_draw(board):\n",
        "            print(\"It's a draw!\")\n",
        "            break\n",
        "\n",
        "        user_row, user_col = get_user_move(board)\n",
        "\n",
        "        board[user_row][user_col] = 'X'\n",
        "        print_board(board)\n",
        "\n",
        "        if check_winner(board, 'X'):\n",
        "            print(\"Congratulations! You win!\")\n",
        "            break\n",
        "\n",
        "        if is_draw(board):\n",
        "            print(\"It's a draw!\")\n",
        "            break\n",
        "\n",
        "if __name__ == \"__main__\":\n",
        "    main()\n"
      ]
    }
  ]
}